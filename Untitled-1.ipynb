{
 "cells": [
  {
   "cell_type": "code",
   "execution_count": 24,
   "metadata": {},
   "outputs": [
    {
     "name": "stdout",
     "output_type": "stream",
     "text": [
      "A taxa é de:  15.0\n"
     ]
    }
   ],
   "source": [
    "ano = int(input('Digite o ano do seu carro'))\n",
    "valor = float(input('Digite o valor do seu carro'))\n",
    "imposto1 = (1/100) * valor\n",
    "imposto2 = (1.5/100) * valor\n",
    "\n",
    "if (ano < 1990):\n",
    "    print('A taxa é de: ', imposto1)\n",
    "elif (ano >= 1990):\n",
    "    print('A taxa é de: ', imposto2)"
   ]
  },
  {
   "cell_type": "code",
   "execution_count": 52,
   "metadata": {},
   "outputs": [
    {
     "name": "stdout",
     "output_type": "stream",
     "text": [
      "Seu salário era: R$ 2500.0 \n",
      " Ele terá um aumento de: +R$ 750.0 \n",
      " Novo salário: R$ 3250.0 .\n"
     ]
    }
   ],
   "source": [
    "# Variáveis para os inputs:\n",
    "cargo = str(input('Digite seu código ou cargo.'))\n",
    "salario = float(input('Qual seu salário?'))\n",
    "\n",
    "# Variáveis para o aumento dos respectivos salários:\n",
    "\n",
    "cargoGerente = (10/100) * salario\n",
    "cargoEngenheiro = (20/100) * salario\n",
    "cargoTecnico = (30/100) * salario\n",
    "cargoNenhum = (40/100) * salario\n",
    "\n",
    "# Calculo dos salários\n",
    "if(cargo == 'Gerente' or cargo == '101'):\n",
    "    print(f' Seu salário era: R$', salario, '\\n', 'Ele terá um aumento de: +R$', cargoGerente, '\\n','Novo salário R$', (salario + cargoGerente))\n",
    "elif(cargo == 'Engenheiro' or cargo == '102'):\n",
    "    print(f'Seu salário era: R$', salario, '\\n', 'Ele terá um aumento de: +R$', cargoEngenheiro, '\\n','Novo salário R$', (salario + cargoEngenheiro))\n",
    "elif(cargo == 'Tecnico' or cargo == '103'):\n",
    "    print(f'Seu salário era: R$', salario, '\\n', 'Ele terá um aumento de: +R$', cargoTecnico, '\\n','Novo salário: R$', (salario + cargoTecnico))\n",
    "else:\n",
    "    print(f'Seu salário era: R$', salario, '\\n', 'Ele terá um aumento de: +R$', cargoNenhum, '\\n','Novo salário: R$', (salario + cargoNenhum))\n"
   ]
  }
 ],
 "metadata": {
  "kernelspec": {
   "display_name": "Python 3",
   "language": "python",
   "name": "python3"
  },
  "language_info": {
   "codemirror_mode": {
    "name": "ipython",
    "version": 3
   },
   "file_extension": ".py",
   "mimetype": "text/x-python",
   "name": "python",
   "nbconvert_exporter": "python",
   "pygments_lexer": "ipython3",
   "version": "3.11.9"
  }
 },
 "nbformat": 4,
 "nbformat_minor": 2
}
